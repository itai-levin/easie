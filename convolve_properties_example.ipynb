{
 "cells": [
  {
   "cell_type": "code",
   "execution_count": 1,
   "metadata": {},
   "outputs": [],
   "source": [
    "from rdkit import Chem\n",
    "import pandas as pd\n",
    "import numpy as np\n",
    "import json\n",
    "import matplotlib\n",
    "import matplotlib.pyplot as plt\n",
    "from tqdm import tqdm\n",
    "matplotlib.rcParams['pdf.fonttype'] = 42\n",
    "plt.rcParams['font.size'] = 6\n",
    "plt.rcParams['font.sans-serif'] = 'Arial'\n",
    "from easie.utils.prop_conv_utils import *\n",
    "from rdkit.Chem import AllChem, Descriptors, Lipinski, rdMolDescriptors"
   ]
  },
  {
   "cell_type": "code",
   "execution_count": 2,
   "metadata": {},
   "outputs": [],
   "source": [
    "with open('data/mitapivat_leaves_options.txt', 'r') as f:\n",
    "    leaves = json.load(f)"
   ]
  },
  {
   "cell_type": "code",
   "execution_count": 3,
   "metadata": {},
   "outputs": [],
   "source": [
    "orig_reactants = [Chem.MolFromSmiles(leaf['smiles']) for leaf in leaves]\n",
    "p_mol = Chem.MolFromSmiles('O=C(C1=CC=C(NS(=O)(C2=CC=CC3=C2N=CC=C3)=O)C=C1)N(CC4)CCN4CC5CC5')"
   ]
  },
  {
   "cell_type": "code",
   "execution_count": 4,
   "metadata": {},
   "outputs": [],
   "source": [
    "all_options = set.union(*[set(leaf['options']) for leaf in leaves])\n",
    "prop_dict = {s:{'mol':Chem.MolFromSmiles(s)} for s in all_options}\n",
    "\n",
    "for s in prop_dict:\n",
    "    mol = prop_dict[s]['mol']\n",
    "    prop_dict[s]['tpsa'] = Descriptors.TPSA(mol) \n",
    "    prop_dict[s]['rot_bonds'] = rdMolDescriptors.CalcNumRotatableBonds(mol)\n",
    "    prop_dict[s]['MW'] = Chem.rdMolDescriptors.CalcExactMolWt(mol)\n",
    "    prop_dict[s]['fp'] = np.array(get_morgan_fingerprint(mol)).astype(bool)\n",
    "    prop_dict[s]['h_donors'] = Lipinski.NumHDonors(mol) \n",
    "    prop_dict[s]['h_acceptors'] = Lipinski.NumHAcceptors(mol)\n",
    "    prop_dict[s]['logp'] = Descriptors.MolLogP(mol) "
   ]
  },
  {
   "cell_type": "code",
   "execution_count": 5,
   "metadata": {},
   "outputs": [],
   "source": [
    "h_donors_correction = Lipinski.NumHDonors(p_mol) - np.sum([Lipinski.NumHDonors(x) for x in orig_reactants])\n",
    "h_acceptors_correction = Lipinski.NumHAcceptors(p_mol) - np.sum([Lipinski.NumHAcceptors(x) for x in orig_reactants])\n",
    "logp_correction = Descriptors.MolLogP(p_mol) - np.sum([Descriptors.MolLogP(x) for x in orig_reactants])\n",
    "mw_correction =  Chem.rdMolDescriptors.CalcExactMolWt(p_mol) - np.sum([Chem.rdMolDescriptors.CalcExactMolWt(x) for x in orig_reactants])\n",
    "rot_bonds_correction = Chem.rdMolDescriptors.CalcNumRotatableBonds(p_mol) - np.sum([Chem.rdMolDescriptors.CalcNumRotatableBonds(x) for x in orig_reactants])\n",
    "tpsa_correction = Descriptors.TPSA(p_mol) - np.sum([Descriptors.TPSA(x) for x in orig_reactants])    "
   ]
  },
  {
   "cell_type": "code",
   "execution_count": 6,
   "metadata": {},
   "outputs": [],
   "source": [
    "props = list(prop_dict[s].keys())"
   ]
  },
  {
   "cell_type": "code",
   "execution_count": 7,
   "metadata": {},
   "outputs": [
    {
     "name": "stdout",
     "output_type": "stream",
     "text": [
      "226.980777112\n",
      "Total size of space: 24675764\n",
      "Molecules within bounds: 8594391\n",
      "Molecules out of bounds: 16081373\n",
      "Total size of space: 23619584\n",
      "Molecules within bounds: 8594391\n",
      "Molecules out of bounds: 15025193\n",
      "Total size of space: 22162028\n",
      "Molecules within bounds: 8594389\n",
      "Molecules out of bounds: 13567639\n",
      "Total size of space: 15943536\n",
      "Molecules within bounds: 8391075\n",
      "Molecules out of bounds: 7552461\n",
      "Total size of space: 2225769\n",
      "Molecules within bounds: 2224704\n",
      "Molecules out of bounds: 1065\n"
     ]
    },
    {
     "name": "stderr",
     "output_type": "stream",
     "text": [
      "findfont: Font family ['sans-serif'] not found. Falling back to DejaVu Sans.\n",
      "findfont: Generic family 'sans-serif' not found because none of the following families were found: Arial\n"
     ]
    },
    {
     "data": {
      "image/png": "[encoded data removed]",
      "text/plain": [
       "<Figure size 144x144 with 1 Axes>"
      ]
     },
     "metadata": {
      "needs_background": "light"
     },
     "output_type": "display_data"
    }
   ],
   "source": [
    "mw_filt = lambda f, x: x < f\n",
    "plt.figure(figsize=(2,2))\n",
    "min_mw = np.max([prop_dict[l['smiles']]['MW'] for l in leaves])\n",
    "cmap = plt.get_cmap('Set2')\n",
    "print (min_mw)\n",
    "\n",
    "mw_xstart, mw_xcutoff = plot_dists(leaves, prop_dict, 'MW', 1, mw_correction, lb=200, ub=600, col=cmap(0), alpha=0.8, label=\"None\")\n",
    "for i, cutoff in enumerate([500,400,300,230]):\n",
    "    plot_dists(leaves, prop_dict, 'MW', 1, mw_correction, lb=200, ub=600, \n",
    "               bb_prop_filter=lambda x: mw_filt(cutoff, x), col=cmap(i+1), alpha=0.9, label=\"≤{} g/mol\".format(cutoff))\n",
    "\n",
    "plt.xlim(mw_xstart, mw_xcutoff)\n",
    "legend = plt.legend(title=\"Building block filter\")\n",
    "for patch in legend.get_patches():\n",
    "    patch.set_edgecolor('black')\n",
    "    patch.set_linewidth(1)"
   ]
  },
  {
   "cell_type": "code",
   "execution_count": 8,
   "metadata": {},
   "outputs": [
    {
     "name": "stdout",
     "output_type": "stream",
     "text": [
      "52.32\n",
      "Total size of space: 24675764\n",
      "Molecules within bounds: 15259556\n",
      "Molecules out of bounds: 9416208\n",
      "Total size of space: 23585520\n",
      "Molecules within bounds: 15259556\n",
      "Molecules out of bounds: 8325964\n",
      "Total size of space: 21857140\n",
      "Molecules within bounds: 15198690\n",
      "Molecules out of bounds: 6658450\n",
      "Total size of space: 14069436\n",
      "Molecules within bounds: 12619502\n",
      "Molecules out of bounds: 1449934\n",
      "Total size of space: 8684156\n",
      "Molecules within bounds: 8577696\n",
      "Molecules out of bounds: 106460\n"
     ]
    },
    {
     "data": {
      "image/png": "[encoded data removed]",
      "text/plain": [
       "<Figure size 144x144 with 1 Axes>"
      ]
     },
     "metadata": {
      "needs_background": "light"
     },
     "output_type": "display_data"
    }
   ],
   "source": [
    "tpsa_filt = lambda f, x: x < f\n",
    "plt.figure(figsize=(2,2))\n",
    "min_tpsa = np.max([prop_dict[l['smiles']]['tpsa'] for l in leaves])\n",
    "cmap = plt.get_cmap('Set2')\n",
    "print (min_tpsa)\n",
    "\n",
    "tpsa_xstart, tpsa_xcutoff = plot_dists(leaves, prop_dict, 'tpsa', 4, tpsa_correction, lb=75, ub=140, col=cmap(0), alpha=0.8, label=\"None\")\n",
    "for i, cutoff in enumerate([140,110,80,70]):\n",
    "    plot_dists(leaves, prop_dict, 'tpsa', 4, tpsa_correction, lb=75, ub=140, \n",
    "               bb_prop_filter=lambda x: tpsa_filt(cutoff, x), col=cmap(i+1), alpha=0.9, label=r\"≤{} Å$^2$\".format(cutoff))\n",
    "\n",
    "plt.xlim(tpsa_xstart, tpsa_xcutoff)\n",
    "legend = plt.legend(title=\"Building block filter\")\n",
    "for patch in legend.get_patches():\n",
    "    patch.set_edgecolor('black')\n",
    "    patch.set_linewidth(1)"
   ]
  },
  {
   "cell_type": "code",
   "execution_count": 9,
   "metadata": {},
   "outputs": [
    {
     "name": "stdout",
     "output_type": "stream",
     "text": [
      "2.1623\n",
      "Total size of space: 24675764\n",
      "Molecules within bounds: 2828863\n",
      "Molecules out of bounds: 21846901\n",
      "Total size of space: 16353460\n",
      "Molecules within bounds: 2760480\n",
      "Molecules out of bounds: 13592980\n",
      "Total size of space: 13257888\n",
      "Molecules within bounds: 2695358\n",
      "Molecules out of bounds: 10562530\n",
      "Total size of space: 11631700\n",
      "Molecules within bounds: 2875143\n",
      "Molecules out of bounds: 8756557\n",
      "Total size of space: 4703977\n",
      "Molecules within bounds: 1376042\n",
      "Molecules out of bounds: 3327935\n"
     ]
    },
    {
     "data": {
      "image/png": "[encoded data removed]",
      "text/plain": [
       "<Figure size 144x144 with 1 Axes>"
      ]
     },
     "metadata": {
      "needs_background": "light"
     },
     "output_type": "display_data"
    }
   ],
   "source": [
    "logp_filt = lambda f, x: x < 3 * f\n",
    "plt.figure(figsize=(2,2))\n",
    "min_logp = np.max([prop_dict[l['smiles']]['logp'] for l in leaves])\n",
    "min_logp_filt = lambda x: x<=min_logp\n",
    "cmap = plt.get_cmap('Set2')\n",
    "logp_filt = lambda f, x: x < f\n",
    "min_logp = np.max([prop_dict[l['smiles']]['logp'] for l in leaves])\n",
    "cmap = plt.get_cmap('Set2')\n",
    "print (min_logp)\n",
    "\n",
    "logp_xstart, logp_xcutoff = plot_dists(leaves, prop_dict, 'logp', 0.1, logp_correction, lb=-5, ub=3, col=cmap(0), alpha=0.8, label=\"None\")\n",
    "for i, cutoff in enumerate([3,2.6,2.4,2.2]):\n",
    "    plot_dists(leaves, prop_dict, 'logp', 0.1, logp_correction, lb=-5, ub=3, \n",
    "               bb_prop_filter=lambda x: logp_filt(cutoff, x), col=cmap(i+1), alpha=0.9, label=r\"≤{:.1f}\".format(cutoff))\n",
    "\n",
    "plt.xlim(logp_xstart, logp_xcutoff+5)\n",
    "legend = plt.legend(title=\"Building block filter\")\n",
    "for patch in legend.get_patches():\n",
    "    patch.set_edgecolor('black')\n",
    "    patch.set_linewidth(1)\n"
   ]
  },
  {
   "cell_type": "code",
   "execution_count": 10,
   "metadata": {},
   "outputs": [
    {
     "name": "stdout",
     "output_type": "stream",
     "text": [
      "CCOC(=O)c1ccc(N)cc1\n",
      "O=S(=O)(Cl)c1cccc2ncccc12\n",
      "C1CN(CC2CC2)CCN1\n"
     ]
    }
   ],
   "source": [
    "leaf_tpsa = {}\n",
    "leaf_mw = {}\n",
    "leaf_logp = {}\n",
    "for leaf in leaves:\n",
    "    leaf_smiles = leaf['smiles']\n",
    "#     if leaf_smiles != 'O=S(=O)(Cl)c1cccc2ncccc12':\n",
    "    print (leaf_smiles)\n",
    "    options= leaf['options']\n",
    "    leaf_tpsa[leaf_smiles] = [prop_dict[s]['tpsa'] for s in options]\n",
    "    leaf_mw[leaf_smiles]= [prop_dict[s]['MW'] for s in options]\n",
    "    leaf_logp[leaf_smiles]= [prop_dict[s]['logp'] for s in options]"
   ]
  },
  {
   "cell_type": "code",
   "execution_count": 11,
   "metadata": {},
   "outputs": [
    {
     "data": {
      "text/plain": [
       "(0.0, 150.0)"
      ]
     },
     "execution_count": 11,
     "metadata": {},
     "output_type": "execute_result"
    },
    {
     "data": {
      "image/png": "[encoded data removed]",
      "text/plain": [
       "<Figure size 144x144 with 1 Axes>"
      ]
     },
     "metadata": {
      "needs_background": "light"
     },
     "output_type": "display_data"
    }
   ],
   "source": [
    "step_size = 4\n",
    "plt.figure(figsize=(2,2))\n",
    "for i, smiles in enumerate(leaf_tpsa):\n",
    "    dist = prop_list_to_dist(leaf_tpsa[smiles],step_size)\n",
    "    plt.bar(dist[1][:-1], dist[0]/np.sum(dist[0]), width=step_size, label=smiles, alpha=0.6, color=cmap(7-i))\n",
    "    plot_outline(dist[1][:-1], dist[0]/np.sum(dist[0]), step_size=step_size)\n",
    "plt.xlim(0,150)"
   ]
  },
  {
   "cell_type": "code",
   "execution_count": 12,
   "metadata": {},
   "outputs": [
    {
     "data": {
      "text/plain": [
       "(0.0, 1000.0)"
      ]
     },
     "execution_count": 12,
     "metadata": {},
     "output_type": "execute_result"
    },
    {
     "data": {
      "image/png": "[encoded data removed]",
      "text/plain": [
       "<Figure size 144x144 with 1 Axes>"
      ]
     },
     "metadata": {
      "needs_background": "light"
     },
     "output_type": "display_data"
    }
   ],
   "source": [
    "step_size = 30\n",
    "plt.figure(figsize=(2,2))\n",
    "for i, smiles in enumerate(leaf_mw):\n",
    "    dist = prop_list_to_dist(leaf_mw[smiles],step_size)\n",
    "    plt.bar(dist[1][:-1], dist[0]/np.sum(dist[0]), width=step_size, label=smiles, alpha=0.6, color=cmap(7-i))\n",
    "    plot_outline(dist[1][:-1], dist[0]/np.sum(dist[0]), step_size=step_size)\n",
    "\n",
    "plt.xlim(0,1000)"
   ]
  },
  {
   "cell_type": "code",
   "execution_count": 13,
   "metadata": {},
   "outputs": [
    {
     "data": {
      "text/plain": [
       "(-5.0, 6.0)"
      ]
     },
     "execution_count": 13,
     "metadata": {},
     "output_type": "execute_result"
    },
    {
     "data": {
      "image/png": "[encoded data removed]",
      "text/plain": [
       "<Figure size 144x144 with 1 Axes>"
      ]
     },
     "metadata": {
      "needs_background": "light"
     },
     "output_type": "display_data"
    }
   ],
   "source": [
    "step_size = 0.5\n",
    "plt.figure(figsize=(2,2))\n",
    "for i, smiles in enumerate(leaf_logp):\n",
    "    dist = prop_list_to_dist(leaf_logp[smiles],step_size)\n",
    "    plt.bar(dist[1][:-1], dist[0]/np.sum(dist[0]), width=step_size, label=smiles, alpha=0.6, color=cmap(7-i))\n",
    "    plot_outline(dist[1][:-1], dist[0]/np.sum(dist[0]), step_size=step_size)\n",
    "plt.xlim(-5,6)"
   ]
  },
  {
   "cell_type": "code",
   "execution_count": null,
   "metadata": {},
   "outputs": [],
   "source": []
  }
 ],
 "metadata": {
  "kernelspec": {
   "display_name": "askcos",
   "language": "python",
   "name": "python3"
  },
  "language_info": {
   "codemirror_mode": {
    "name": "ipython",
    "version": 3
   },
   "file_extension": ".py",
   "mimetype": "text/x-python",
   "name": "python",
   "nbconvert_exporter": "python",
   "pygments_lexer": "ipython3",
   "version": "3.7.12"
  },
  "orig_nbformat": 4
 },
 "nbformat": 4,
 "nbformat_minor": 2
}
